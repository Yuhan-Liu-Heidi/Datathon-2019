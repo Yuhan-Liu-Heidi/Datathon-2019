{
  "nbformat": 4,
  "nbformat_minor": 0,
  "metadata": {
    "colab": {
      "name": "datathon",
      "provenance": [],
      "collapsed_sections": [],
      "machine_shape": "hm"
    },
    "kernelspec": {
      "name": "python3",
      "display_name": "Python 3"
    },
    "accelerator": "TPU"
  },
  "cells": [
    {
      "cell_type": "code",
      "metadata": {
        "id": "cKecG3PNmOzr",
        "colab_type": "code",
        "colab": {}
      },
      "source": [
        "import tensorflow as tf\n",
        "import numpy as np\n",
        "from matplotlib import pyplot as plt\n",
        "import os, glob\n",
        "from google.colab import drive\n",
        "from sklearn.model_selection import train_test_split\n",
        "import pandas as pd\n",
        "from sklearn.model_selection import LeaveOneOut\n",
        "from keras.callbacks import ModelCheckpoint\n",
        "from sklearn.model_selection import KFold\n",
        "from sklearn.model_selection import cross_val_score, cross_val_predict\n",
        "from sklearn import metrics"
      ],
      "execution_count": 0,
      "outputs": []
    },
    {
      "cell_type": "code",
      "metadata": {
        "id": "7asyjSZ-mQn7",
        "colab_type": "code",
        "outputId": "0a6b7b41-d67c-49e1-a5b9-d4d2876200bd",
        "colab": {
          "base_uri": "https://localhost:8080/",
          "height": 34
        }
      },
      "source": [
        "drive.mount('/content/drive')"
      ],
      "execution_count": 2,
      "outputs": [
        {
          "output_type": "stream",
          "text": [
            "Drive already mounted at /content/drive; to attempt to forcibly remount, call drive.mount(\"/content/drive\", force_remount=True).\n"
          ],
          "name": "stdout"
        }
      ]
    },
    {
      "cell_type": "code",
      "metadata": {
        "id": "PSBONmvWmZ8X",
        "colab_type": "code",
        "colab": {}
      },
      "source": [
        "root_folder = \"/content/drive/My Drive/Datathon/\"\n",
        "topics_path = os.path.join(root_folder,\"interest_topics.csv\")\n",
        "train_path = os.path.join(root_folder,\"training.csv\")\n",
        "test_path = os.path.join(root_folder,\"validation.csv\")"
      ],
      "execution_count": 0,
      "outputs": []
    },
    {
      "cell_type": "code",
      "metadata": {
        "id": "oLwHNBUdnffj",
        "colab_type": "code",
        "colab": {
          "base_uri": "https://localhost:8080/",
          "height": 204
        },
        "outputId": "0f1bf2ba-57a6-4218-90bf-0ea17e9a0461"
      },
      "source": [
        "def load(file):\n",
        "    import ast\n",
        "    df = pd.read_csv(file)\n",
        "\n",
        "    # convert the column values from literal string to dictionary\n",
        "    df['ltiFeatures'] = df['ltiFeatures'].apply(ast.literal_eval)\n",
        "    df['stiFeatures'] = df['stiFeatures'].apply(ast.literal_eval)\n",
        "    return df\n",
        "\n",
        "# load all data\n",
        "training = load(train_path)\n",
        "test = load(test_path)\n",
        "interest_topics = pd.read_csv(topics_path)\n",
        "\n",
        "# inspect data\n",
        "interest_topics.head()\n",
        "training.head()\n",
        "test.head()"
      ],
      "execution_count": 4,
      "outputs": [
        {
          "output_type": "execute_result",
          "data": {
            "text/html": [
              "<div>\n",
              "<style scoped>\n",
              "    .dataframe tbody tr th:only-of-type {\n",
              "        vertical-align: middle;\n",
              "    }\n",
              "\n",
              "    .dataframe tbody tr th {\n",
              "        vertical-align: top;\n",
              "    }\n",
              "\n",
              "    .dataframe thead th {\n",
              "        text-align: right;\n",
              "    }\n",
              "</style>\n",
              "<table border=\"1\" class=\"dataframe\">\n",
              "  <thead>\n",
              "    <tr style=\"text-align: right;\">\n",
              "      <th></th>\n",
              "      <th>userID</th>\n",
              "      <th>inAudience</th>\n",
              "      <th>ltiFeatures</th>\n",
              "      <th>stiFeatures</th>\n",
              "    </tr>\n",
              "  </thead>\n",
              "  <tbody>\n",
              "    <tr>\n",
              "      <th>0</th>\n",
              "      <td>0</td>\n",
              "      <td>True</td>\n",
              "      <td>{'89': 0.0027281240558934, '1264': 0.001862958...</td>\n",
              "      <td>{}</td>\n",
              "    </tr>\n",
              "    <tr>\n",
              "      <th>1</th>\n",
              "      <td>1</td>\n",
              "      <td>True</td>\n",
              "      <td>{'47': 0.0019292939671486482, '1187': 0.012261...</td>\n",
              "      <td>{}</td>\n",
              "    </tr>\n",
              "    <tr>\n",
              "      <th>2</th>\n",
              "      <td>2</td>\n",
              "      <td>True</td>\n",
              "      <td>{'45': 0.001961152113619305, '47': 0.001584126...</td>\n",
              "      <td>{}</td>\n",
              "    </tr>\n",
              "    <tr>\n",
              "      <th>3</th>\n",
              "      <td>3</td>\n",
              "      <td>True</td>\n",
              "      <td>{'1253': 0.006566573072362829, '1164': 0.00327...</td>\n",
              "      <td>{}</td>\n",
              "    </tr>\n",
              "    <tr>\n",
              "      <th>4</th>\n",
              "      <td>4</td>\n",
              "      <td>True</td>\n",
              "      <td>{'78': 0.013096540307802428, '1198': 0.0025546...</td>\n",
              "      <td>{}</td>\n",
              "    </tr>\n",
              "  </tbody>\n",
              "</table>\n",
              "</div>"
            ],
            "text/plain": [
              "   userID  ...  stiFeatures\n",
              "0       0  ...           {}\n",
              "1       1  ...           {}\n",
              "2       2  ...           {}\n",
              "3       3  ...           {}\n",
              "4       4  ...           {}\n",
              "\n",
              "[5 rows x 4 columns]"
            ]
          },
          "metadata": {
            "tags": []
          },
          "execution_count": 4
        }
      ]
    },
    {
      "cell_type": "code",
      "metadata": {
        "id": "ZJ60PuY3dTFI",
        "colab_type": "code",
        "colab": {}
      },
      "source": [
        "def convert_data_to_im(data):\n",
        "    r = int(np.shape(data)[0])  # No. of users\n",
        "    max_c = []\n",
        "    for i in range(r):\n",
        "        user_lti = data.at[i, 'ltiFeatures']\n",
        "        user_sti = data.at[i, 'stiFeatures']\n",
        "        c_l = max([int(i) for i in user_lti.keys()])\n",
        "        if user_sti != {}:\n",
        "            c_s = max([int(i) for i in user_sti.keys()])\n",
        "        else:\n",
        "            c_s = 0\n",
        "        max_c.append(max(c_l, c_s))\n",
        "    c = max(max_c)\n",
        "    print(c)\n",
        "    im = np.zeros((r, 2, c))\n",
        "    for i in range(r):  # iterate users\n",
        "        user_lti = data.at[i, 'ltiFeatures']\n",
        "        user_sti = data.at[i, 'stiFeatures']\n",
        "        for k in user_lti.keys():\n",
        "            im[i, 0, int(k)-1] = user_lti[k]\n",
        "        for k in user_sti.keys():\n",
        "            im[i, 1, int(k)-1] = user_sti[k]\n",
        "    return im\n",
        "\n",
        "\n",
        "def ground_truth(data):\n",
        "    gt = data.to_numpy()[:, 1]\n",
        "    for i in range(int(np.shape(data)[0])):\n",
        "        if gt[i]:\n",
        "            gt[i] = 1\n",
        "        else:\n",
        "            gt[i] = 0\n",
        "    return gt"
      ],
      "execution_count": 0,
      "outputs": []
    },
    {
      "cell_type": "code",
      "metadata": {
        "id": "kNmNDH-_oWdU",
        "colab_type": "code",
        "outputId": "05664f16-9e59-440d-ec56-b1beb4b04df1",
        "colab": {
          "base_uri": "https://localhost:8080/",
          "height": 34
        }
      },
      "source": [
        "im = convert_data_to_im(training)\n",
        "# (96406,2,1881)\n",
        "label = ground_truth(training)\n",
        "# (96406,)"
      ],
      "execution_count": 6,
      "outputs": [
        {
          "output_type": "stream",
          "text": [
            "1881\n"
          ],
          "name": "stdout"
        }
      ]
    },
    {
      "cell_type": "code",
      "metadata": {
        "id": "t3DMx7ytnQAI",
        "colab_type": "code",
        "colab": {
          "base_uri": "https://localhost:8080/",
          "height": 68
        },
        "outputId": "80ecc843-aef2-49aa-c79d-5106b7e168b5"
      },
      "source": [
        "im_test = convert_data_to_im(test)\n",
        "im_test_dim = np.expand_dims(im_test,axis=3)\n",
        "print(np.shape(im_test_dim))\n",
        "label_test = ground_truth(test)\n",
        "print(np.shape(label_test))"
      ],
      "execution_count": 59,
      "outputs": [
        {
          "output_type": "stream",
          "text": [
            "1881\n",
            "(80008, 2, 1881, 1)\n",
            "(80008,)\n"
          ],
          "name": "stdout"
        }
      ]
    },
    {
      "cell_type": "code",
      "metadata": {
        "id": "1f-LZnCvWIwA",
        "colab_type": "code",
        "colab": {
          "base_uri": "https://localhost:8080/",
          "height": 34
        },
        "outputId": "cd4e3235-89ba-4830-f540-7390fb1d3fb2"
      },
      "source": [
        "np.shape(im)"
      ],
      "execution_count": 7,
      "outputs": [
        {
          "output_type": "execute_result",
          "data": {
            "text/plain": [
              "(96406, 2, 1881)"
            ]
          },
          "metadata": {
            "tags": []
          },
          "execution_count": 7
        }
      ]
    },
    {
      "cell_type": "code",
      "metadata": {
        "id": "jZYZml7ZVMCK",
        "colab_type": "code",
        "colab": {
          "base_uri": "https://localhost:8080/",
          "height": 34
        },
        "outputId": "2f7a0b8f-d18e-4484-e4d1-b67e273a8ed7"
      },
      "source": [
        "im_dim = im.reshape(np.shape(im)[0],np.shape(im)[1],np.shape(im)[2],1)\n",
        "print(np.shape(im_dim))"
      ],
      "execution_count": 8,
      "outputs": [
        {
          "output_type": "stream",
          "text": [
            "(96406, 2, 1881, 1)\n"
          ],
          "name": "stdout"
        }
      ]
    },
    {
      "cell_type": "code",
      "metadata": {
        "id": "qiqJBL2_eY3C",
        "colab_type": "code",
        "colab": {
          "base_uri": "https://localhost:8080/",
          "height": 34
        },
        "outputId": "a0974033-786f-4bb0-f629-0e87064d201d"
      },
      "source": [
        "assert np.shape(label)[0] == np.shape(im_dim)[0]\n",
        "num_shopper = np.shape(label)[0]\n",
        "im_dim.astype(np.float32)\n",
        "label.astype(np.int32)"
      ],
      "execution_count": 9,
      "outputs": [
        {
          "output_type": "execute_result",
          "data": {
            "text/plain": [
              "array([1, 1, 1, ..., 0, 0, 0], dtype=int32)"
            ]
          },
          "metadata": {
            "tags": []
          },
          "execution_count": 9
        }
      ]
    },
    {
      "cell_type": "code",
      "metadata": {
        "id": "n7k7ZO1BvHNQ",
        "colab_type": "code",
        "colab": {}
      },
      "source": [
        "X_train, X_val, y_train, y_val = train_test_split(im_dim, label, test_size=0.1, random_state=42)\n",
        "\n"
      ],
      "execution_count": 0,
      "outputs": []
    },
    {
      "cell_type": "code",
      "metadata": {
        "id": "b8tYB2wE1S6d",
        "colab_type": "code",
        "colab": {
          "base_uri": "https://localhost:8080/",
          "height": 34
        },
        "outputId": "14d02bc6-596e-4b4e-872b-f8079f22b801"
      },
      "source": [
        "np.shape(X_train)"
      ],
      "execution_count": 90,
      "outputs": [
        {
          "output_type": "execute_result",
          "data": {
            "text/plain": [
              "(86765, 2, 1881, 1)"
            ]
          },
          "metadata": {
            "tags": []
          },
          "execution_count": 90
        }
      ]
    },
    {
      "cell_type": "code",
      "metadata": {
        "id": "7Doi_dSut0s2",
        "colab_type": "code",
        "colab": {
          "base_uri": "https://localhost:8080/",
          "height": 493
        },
        "outputId": "2adb07de-9170-4e6e-e957-419ad02b0965"
      },
      "source": [
        "model = tf.keras.Sequential([])\n",
        "\n",
        "model.add(tf.keras.layers.Conv2D(32, (2, 3), 1, padding='same', input_shape=(2,1881,1), activation='relu'))\n",
        "model.add(tf.keras.layers.Conv2D(32, (2, 3), 1, padding='same', activation='relu'))\n",
        "model.add(tf.keras.layers.MaxPooling2D(pool_size=(1, 2)))\n",
        "\n",
        "# model.add(tf.keras.layers.Conv2D(64, (2, 3), 1, padding='same', activation='relu'))\n",
        "# model.add(tf.keras.layers.Conv2D(64, (2, 3), 1, padding='same', activation='relu'))\n",
        "# model.add(tf.keras.layers.MaxPooling2D(pool_size=(1, 2)))\n",
        "\n",
        "model.add(tf.keras.layers.Flatten())\n",
        "model.add(tf.keras.layers.Dense(256, activation='relu'))\n",
        "model.add(tf.keras.layers.Dropout(0.5))\n",
        "\n",
        "model.add(tf.keras.layers.Dense(128, activation='relu'))\n",
        "model.add(tf.keras.layers.Dropout(0.5))\n",
        "\n",
        "model.add(tf.keras.layers.Dense(1))\n",
        "model.add(tf.keras.layers.Activation('sigmoid'))\n",
        "\n",
        "model.summary()\n",
        "model.compile(loss='binary_crossentropy',\n",
        "            optimizer=tf.train.AdamOptimizer(0.01),\n",
        "            metrics=['accuracy'])"
      ],
      "execution_count": 91,
      "outputs": [
        {
          "output_type": "stream",
          "text": [
            "Model: \"sequential_10\"\n",
            "_________________________________________________________________\n",
            "Layer (type)                 Output Shape              Param #   \n",
            "=================================================================\n",
            "conv2d_28 (Conv2D)           (None, 2, 1881, 32)       224       \n",
            "_________________________________________________________________\n",
            "conv2d_29 (Conv2D)           (None, 2, 1881, 32)       6176      \n",
            "_________________________________________________________________\n",
            "max_pooling2d_16 (MaxPooling (None, 2, 940, 32)        0         \n",
            "_________________________________________________________________\n",
            "flatten_10 (Flatten)         (None, 60160)             0         \n",
            "_________________________________________________________________\n",
            "dense_28 (Dense)             (None, 256)               15401216  \n",
            "_________________________________________________________________\n",
            "dropout_17 (Dropout)         (None, 256)               0         \n",
            "_________________________________________________________________\n",
            "dense_29 (Dense)             (None, 128)               32896     \n",
            "_________________________________________________________________\n",
            "dropout_18 (Dropout)         (None, 128)               0         \n",
            "_________________________________________________________________\n",
            "dense_30 (Dense)             (None, 1)                 129       \n",
            "_________________________________________________________________\n",
            "activation_10 (Activation)   (None, 1)                 0         \n",
            "=================================================================\n",
            "Total params: 15,440,641\n",
            "Trainable params: 15,440,641\n",
            "Non-trainable params: 0\n",
            "_________________________________________________________________\n"
          ],
          "name": "stdout"
        }
      ]
    },
    {
      "cell_type": "code",
      "metadata": {
        "id": "6QlD82-BhzQu",
        "colab_type": "code",
        "colab": {
          "base_uri": "https://localhost:8080/",
          "height": 258
        },
        "outputId": "9d16ab59-061f-4b28-e1be-799f6458864a"
      },
      "source": [
        "# kf = KFold(n_splits=10)\n",
        "# kf.get_n_splits(im)\n",
        "history = []\n",
        "accs = []\n",
        "evals = []\n",
        "\n",
        "# for train_index, val_index in kf.split(im):\n",
        "  #  X_train, X_val = im_dim[train_index], im_dim[val_index]\n",
        "  #  y_train, y_val = label[train_index], label[val_index]\n",
        "   # early_stop = tf.keras.callbacks.EarlyStopping(monitor='val_loss', min_delta=1e-3, patience=3)\n",
        "\n",
        "   # checkpoint = ModelCheckpoint(filepath, monitor = 'acc', verbose = 1, save_best_only = True, mode = 'max')\n",
        "tensorboard = tf.keras.callbacks.TensorBoard(log_dir=os.path.join(root_folder,'logs/{}').format('model_name'))\n",
        "hist = model.fit(X_train, y_train,\n",
        "      batch_size=64,\n",
        "      epochs=5,\n",
        "      verbose=1,\n",
        "      validation_data=(X_val, y_val),\n",
        "      callbacks=[tensorboard])\n",
        "history.append(hist.history)\n",
        "predictions = model.predict(im_test_dim)\n",
        "a = 1*(predictions<0.5)\n",
        "b = np.asarray([i-j for i,j in zip(a,label_test)])\n",
        "acc = np.sum(b)/len(b)\n",
        "print(acc)\n",
        "accs.append(acc)\n",
        "label_test_dim = np.expand_dims(label_test,axis=3).astype(np.int32)\n",
        "metric = metrics.confusion_matrix(label_test_dim,a)\n",
        "evals.append(metric)"
      ],
      "execution_count": 92,
      "outputs": [
        {
          "output_type": "stream",
          "text": [
            "Train on 86765 samples, validate on 9641 samples\n",
            "Epoch 1/5\n",
            "86765/86765 [==============================] - 108s 1ms/sample - loss: 0.1295 - acc: 0.9843 - val_loss: 0.0815 - val_acc: 0.9841\n",
            "Epoch 2/5\n",
            "86765/86765 [==============================] - 107s 1ms/sample - loss: 0.0816 - acc: 0.9848 - val_loss: 0.0816 - val_acc: 0.9841\n",
            "Epoch 3/5\n",
            "86765/86765 [==============================] - 118s 1ms/sample - loss: 0.0794 - acc: 0.9849 - val_loss: 0.0818 - val_acc: 0.9841\n",
            "Epoch 4/5\n",
            "86765/86765 [==============================] - 107s 1ms/sample - loss: 0.0790 - acc: 0.9849 - val_loss: 0.0834 - val_acc: 0.9841\n",
            "Epoch 5/5\n",
            "86765/86765 [==============================] - 107s 1ms/sample - loss: 0.0801 - acc: 0.9849 - val_loss: 0.0827 - val_acc: 0.9841\n",
            "0.9922507749225078\n"
          ],
          "name": "stdout"
        },
        {
          "output_type": "stream",
          "text": [
            "/usr/local/lib/python3.6/dist-packages/ipykernel_launcher.py:25: DeprecationWarning: Both axis > a.ndim and axis < -a.ndim - 1 are deprecated and will raise an AxisError in the future.\n"
          ],
          "name": "stderr"
        }
      ]
    },
    {
      "cell_type": "code",
      "metadata": {
        "id": "jdHGVrab7f2C",
        "colab_type": "code",
        "colab": {
          "base_uri": "https://localhost:8080/",
          "height": 350
        },
        "outputId": "5cdba545-559c-4214-83fa-64edb7bd1111"
      },
      "source": [
        "acc = history[0]['acc']\n",
        "loss = history[0]['loss']\n",
        "val_acc = history[0]['val_acc']\n",
        "val_loss = history[0]['val_loss']\n",
        "epoch = range(5)\n",
        "plt.figure(figsize=(12,5))\n",
        "plt.subplot(1,2,1)\n",
        "plt.plot(epoch,loss,'r.-',label = 'train loss')\n",
        "plt.plot(epoch,val_loss,'b.-', label = 'validation loss')\n",
        "plt.title('The loss for training/validation data set')\n",
        "plt.xlabel('#epoch')\n",
        "plt.ylabel('loss in training/validation set')\n",
        "plt.grid()\n",
        "plt.legend()\n",
        "\n",
        "plt.subplot(1,2,2)\n",
        "plt.plot(epoch,acc,'r.-',label = 'train accuracy')\n",
        "plt.plot(epoch,val_acc,'b.-',label = 'validation accuarcy')\n",
        "plt.title('The accuracy for training/validation data set')\n",
        "plt.xlabel('#epoch')\n",
        "plt.ylabel('acc in training/validation set')\n",
        "plt.grid()\n",
        "plt.legend()\n",
        "\n",
        "plt.show()"
      ],
      "execution_count": 97,
      "outputs": [
        {
          "output_type": "display_data",
          "data": {
            "image/png": "[encoded data removed]",
            "text/plain": [
              "<Figure size 864x360 with 2 Axes>"
            ]
          },
          "metadata": {
            "tags": []
          }
        }
      ]
    },
    {
      "cell_type": "code",
      "metadata": {
        "id": "_jXL9NkvwjQl",
        "colab_type": "code",
        "colab": {
          "base_uri": "https://localhost:8080/",
          "height": 329
        },
        "outputId": "b38b0f45-dc35-4e22-a0a9-f5d378ba4956"
      },
      "source": [
        "\n",
        "plt.plot(epoch,acc,'r.-')\n",
        "plt.title('The accuracy for test data set')\n",
        "plt.xlabel('#epoch')\n",
        "plt.ylabel('loss in test set')\n",
        "plt.grid()\n",
        "plt.legend()"
      ],
      "execution_count": 100,
      "outputs": [
        {
          "output_type": "stream",
          "text": [
            "No handles with labels found to put in legend.\n"
          ],
          "name": "stderr"
        },
        {
          "output_type": "execute_result",
          "data": {
            "text/plain": [
              "<matplotlib.legend.Legend at 0x7fbc8f405e80>"
            ]
          },
          "metadata": {
            "tags": []
          },
          "execution_count": 100
        },
        {
          "output_type": "display_data",
          "data": {
            "image/png": "[encoded data removed]",
            "text/plain": [
              "<Figure size 432x288 with 1 Axes>"
            ]
          },
          "metadata": {
            "tags": []
          }
        }
      ]
    },
    {
      "cell_type": "code",
      "metadata": {
        "id": "CRpJmqWiwZI2",
        "colab_type": "code",
        "colab": {}
      },
      "source": [
        ""
      ],
      "execution_count": 0,
      "outputs": []
    }
  ]
}